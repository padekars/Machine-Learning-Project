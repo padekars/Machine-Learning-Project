{
 "cells": [
  {
   "cell_type": "markdown",
   "metadata": {},
   "source": [
    "# 1. Load Libraries"
   ]
  },
  {
   "cell_type": "code",
   "execution_count": 1,
   "metadata": {},
   "outputs": [],
   "source": [
    "# Import necessary libraries\n",
    "import pandas as pd\n",
    "from sklearn.impute import SimpleImputer\n",
    "import numpy as np\n",
    "from sklearn.preprocessing import StandardScaler\n",
    "from sklearn.model_selection import train_test_split,GridSearchCV\n",
    "from sklearn.metrics import mean_squared_error\n",
    "from sklearn.linear_model import LinearRegression\n",
    "from sklearn.linear_model import Lasso\n",
    "from sklearn.linear_model import ElasticNet\n",
    "from sklearn.ensemble import RandomForestRegressor\n",
    "\n",
    "import matplotlib.pyplot as plt\n",
    "# Magic word for producing visualizations in notebook\n",
    "%matplotlib inline"
   ]
  },
  {
   "cell_type": "code",
   "execution_count": 2,
   "metadata": {},
   "outputs": [],
   "source": [
    "# Load in listings data.\n",
    "listings_df = pd.read_csv('listings.csv',sep=',')"
   ]
  },
  {
   "cell_type": "code",
   "execution_count": 3,
   "metadata": {},
   "outputs": [
    {
     "data": {
      "text/plain": [
       "(3818, 44)"
      ]
     },
     "execution_count": 3,
     "metadata": {},
     "output_type": "execute_result"
    }
   ],
   "source": [
    "drop_columns=['host_listings_count','calculated_host_listings_count','host_neighbourhood',\n",
    "'neighbourhood','neighbourhood_cleansed','host_since','first_review','last_review','scrape_id',\n",
    " 'last_scraped','experiences_offered','market','country_code', 'country', 'has_availability',\n",
    "'calendar_last_scraped','requires_license','license','jurisdiction_names','listing_url',\n",
    " 'thumbnail_url','medium_url','picture_url','xl_picture_url','host_url','host_thumbnail_url',\n",
    " 'host_picture_url','host_id', 'host_name','host_location','host_about',\n",
    "'host_response_time','host_acceptance_rate','host_verifications',\n",
    "'street','city','state','smart_location','id','name', 'summary', 'space', \n",
    "'description', 'neighborhood_overview','notes', 'transit','latitude','longitude']\n",
    "listings_df.drop(drop_columns, axis=1, inplace=True)\n",
    "listings_df.shape"
   ]
  },
  {
   "cell_type": "code",
   "execution_count": 4,
   "metadata": {},
   "outputs": [
    {
     "name": "stdout",
     "output_type": "stream",
     "text": [
      "<class 'pandas.core.frame.DataFrame'>\n",
      "RangeIndex: 3818 entries, 0 to 3817\n",
      "Data columns (total 44 columns):\n",
      "host_response_rate                  3295 non-null object\n",
      "host_is_superhost                   3816 non-null object\n",
      "host_total_listings_count           3816 non-null float64\n",
      "host_has_profile_pic                3816 non-null object\n",
      "host_identity_verified              3816 non-null object\n",
      "neighbourhood_group_cleansed        3818 non-null object\n",
      "zipcode                             3811 non-null object\n",
      "is_location_exact                   3818 non-null object\n",
      "property_type                       3817 non-null object\n",
      "room_type                           3818 non-null object\n",
      "accommodates                        3818 non-null int64\n",
      "bathrooms                           3802 non-null float64\n",
      "bedrooms                            3812 non-null float64\n",
      "beds                                3817 non-null float64\n",
      "bed_type                            3818 non-null object\n",
      "amenities                           3818 non-null object\n",
      "square_feet                         97 non-null float64\n",
      "price                               3818 non-null object\n",
      "weekly_price                        2009 non-null object\n",
      "monthly_price                       1517 non-null object\n",
      "security_deposit                    1866 non-null object\n",
      "cleaning_fee                        2788 non-null object\n",
      "guests_included                     3818 non-null int64\n",
      "extra_people                        3818 non-null object\n",
      "minimum_nights                      3818 non-null int64\n",
      "maximum_nights                      3818 non-null int64\n",
      "calendar_updated                    3818 non-null object\n",
      "availability_30                     3818 non-null int64\n",
      "availability_60                     3818 non-null int64\n",
      "availability_90                     3818 non-null int64\n",
      "availability_365                    3818 non-null int64\n",
      "number_of_reviews                   3818 non-null int64\n",
      "review_scores_rating                3171 non-null float64\n",
      "review_scores_accuracy              3160 non-null float64\n",
      "review_scores_cleanliness           3165 non-null float64\n",
      "review_scores_checkin               3160 non-null float64\n",
      "review_scores_communication         3167 non-null float64\n",
      "review_scores_location              3163 non-null float64\n",
      "review_scores_value                 3162 non-null float64\n",
      "instant_bookable                    3818 non-null object\n",
      "cancellation_policy                 3818 non-null object\n",
      "require_guest_profile_picture       3818 non-null object\n",
      "require_guest_phone_verification    3818 non-null object\n",
      "reviews_per_month                   3191 non-null float64\n",
      "dtypes: float64(13), int64(9), object(22)\n",
      "memory usage: 1.3+ MB\n"
     ]
    }
   ],
   "source": [
    "# The columns information of listings data\n",
    "listings_df.info()\n"
   ]
  },
  {
   "cell_type": "markdown",
   "metadata": {},
   "source": [
    "# 2. Clean and Analyze\n",
    "\n",
    "## 2.1. Handle Inconsistent Data\n"
   ]
  },
  {
   "cell_type": "code",
   "execution_count": 5,
   "metadata": {},
   "outputs": [
    {
     "data": {
      "text/html": [
       "<div>\n",
       "<style scoped>\n",
       "    .dataframe tbody tr th:only-of-type {\n",
       "        vertical-align: middle;\n",
       "    }\n",
       "\n",
       "    .dataframe tbody tr th {\n",
       "        vertical-align: top;\n",
       "    }\n",
       "\n",
       "    .dataframe thead th {\n",
       "        text-align: right;\n",
       "    }\n",
       "</style>\n",
       "<table border=\"1\" class=\"dataframe\">\n",
       "  <thead>\n",
       "    <tr style=\"text-align: right;\">\n",
       "      <th></th>\n",
       "      <th>price</th>\n",
       "      <th>weekly_price</th>\n",
       "      <th>monthly_price</th>\n",
       "      <th>security_deposit</th>\n",
       "      <th>cleaning_fee</th>\n",
       "      <th>extra_people</th>\n",
       "    </tr>\n",
       "  </thead>\n",
       "  <tbody>\n",
       "    <tr>\n",
       "      <td>0</td>\n",
       "      <td>85.0</td>\n",
       "      <td>NaN</td>\n",
       "      <td>NaN</td>\n",
       "      <td>NaN</td>\n",
       "      <td>NaN</td>\n",
       "      <td>5.0</td>\n",
       "    </tr>\n",
       "    <tr>\n",
       "      <td>1</td>\n",
       "      <td>150.0</td>\n",
       "      <td>1000.0</td>\n",
       "      <td>3000.0</td>\n",
       "      <td>100.0</td>\n",
       "      <td>40.0</td>\n",
       "      <td>0.0</td>\n",
       "    </tr>\n",
       "  </tbody>\n",
       "</table>\n",
       "</div>"
      ],
      "text/plain": [
       "   price  weekly_price  monthly_price  security_deposit  cleaning_fee  \\\n",
       "0   85.0           NaN            NaN               NaN           NaN   \n",
       "1  150.0        1000.0         3000.0             100.0          40.0   \n",
       "\n",
       "   extra_people  \n",
       "0           5.0  \n",
       "1           0.0  "
      ]
     },
     "execution_count": 5,
     "metadata": {},
     "output_type": "execute_result"
    }
   ],
   "source": [
    "# Change the type of price features to float\n",
    "price_cols=['price','weekly_price','monthly_price','security_deposit','cleaning_fee','extra_people']\n",
    "listings_df[price_cols]=listings_df[price_cols].apply(lambda x: pd.to_numeric(x.str.translate({ord(i): None for i in '$,'})))\n",
    "listings_df[price_cols].head(n=2)"
   ]
  },
  {
   "cell_type": "code",
   "execution_count": 6,
   "metadata": {},
   "outputs": [
    {
     "data": {
      "text/html": [
       "<div>\n",
       "<style scoped>\n",
       "    .dataframe tbody tr th:only-of-type {\n",
       "        vertical-align: middle;\n",
       "    }\n",
       "\n",
       "    .dataframe tbody tr th {\n",
       "        vertical-align: top;\n",
       "    }\n",
       "\n",
       "    .dataframe thead th {\n",
       "        text-align: right;\n",
       "    }\n",
       "</style>\n",
       "<table border=\"1\" class=\"dataframe\">\n",
       "  <thead>\n",
       "    <tr style=\"text-align: right;\">\n",
       "      <th></th>\n",
       "      <th>price</th>\n",
       "      <th>weekly_price</th>\n",
       "      <th>monthly_price</th>\n",
       "      <th>security_deposit</th>\n",
       "      <th>cleaning_fee</th>\n",
       "      <th>extra_people</th>\n",
       "    </tr>\n",
       "  </thead>\n",
       "  <tbody>\n",
       "    <tr>\n",
       "      <td>0</td>\n",
       "      <td>85.0</td>\n",
       "      <td>NaN</td>\n",
       "      <td>NaN</td>\n",
       "      <td>NaN</td>\n",
       "      <td>NaN</td>\n",
       "      <td>5.0</td>\n",
       "    </tr>\n",
       "    <tr>\n",
       "      <td>1</td>\n",
       "      <td>150.0</td>\n",
       "      <td>1000.0</td>\n",
       "      <td>3000.0</td>\n",
       "      <td>100.0</td>\n",
       "      <td>40.0</td>\n",
       "      <td>0.0</td>\n",
       "    </tr>\n",
       "    <tr>\n",
       "      <td>2</td>\n",
       "      <td>975.0</td>\n",
       "      <td>NaN</td>\n",
       "      <td>NaN</td>\n",
       "      <td>1000.0</td>\n",
       "      <td>300.0</td>\n",
       "      <td>25.0</td>\n",
       "    </tr>\n",
       "    <tr>\n",
       "      <td>3</td>\n",
       "      <td>100.0</td>\n",
       "      <td>650.0</td>\n",
       "      <td>2300.0</td>\n",
       "      <td>NaN</td>\n",
       "      <td>NaN</td>\n",
       "      <td>0.0</td>\n",
       "    </tr>\n",
       "    <tr>\n",
       "      <td>4</td>\n",
       "      <td>450.0</td>\n",
       "      <td>NaN</td>\n",
       "      <td>NaN</td>\n",
       "      <td>700.0</td>\n",
       "      <td>125.0</td>\n",
       "      <td>15.0</td>\n",
       "    </tr>\n",
       "  </tbody>\n",
       "</table>\n",
       "</div>"
      ],
      "text/plain": [
       "   price  weekly_price  monthly_price  security_deposit  cleaning_fee  \\\n",
       "0   85.0           NaN            NaN               NaN           NaN   \n",
       "1  150.0        1000.0         3000.0             100.0          40.0   \n",
       "2  975.0           NaN            NaN            1000.0         300.0   \n",
       "3  100.0         650.0         2300.0               NaN           NaN   \n",
       "4  450.0           NaN            NaN             700.0         125.0   \n",
       "\n",
       "   extra_people  \n",
       "0           5.0  \n",
       "1           0.0  \n",
       "2          25.0  \n",
       "3           0.0  \n",
       "4          15.0  "
      ]
     },
     "execution_count": 6,
     "metadata": {},
     "output_type": "execute_result"
    }
   ],
   "source": [
    "listings_df[price_cols].head()"
   ]
  },
  {
   "cell_type": "code",
   "execution_count": 7,
   "metadata": {},
   "outputs": [],
   "source": [
    "# Change ('99\\n98122') to '98122'\n",
    "listings_df.loc[listings_df['zipcode']=='99\\n98122', 'zipcode'] = '98122'"
   ]
  },
  {
   "cell_type": "code",
   "execution_count": 8,
   "metadata": {},
   "outputs": [
    {
     "data": {
      "text/plain": [
       "0       98119\n",
       "1       98119\n",
       "2       98119\n",
       "3       98119\n",
       "4       98119\n",
       "        ...  \n",
       "3813    98107\n",
       "3814    98102\n",
       "3815    98178\n",
       "3816    98112\n",
       "3817    98109\n",
       "Name: zipcode, Length: 3818, dtype: object"
      ]
     },
     "execution_count": 8,
     "metadata": {},
     "output_type": "execute_result"
    }
   ],
   "source": [
    "listings_df['zipcode']"
   ]
  },
  {
   "cell_type": "markdown",
   "metadata": {},
   "source": [
    "## 2.2. Handle Missing Data"
   ]
  },
  {
   "cell_type": "code",
   "execution_count": 9,
   "metadata": {},
   "outputs": [
    {
     "data": {
      "text/plain": [
       "host_response_rate                  0\n",
       "host_is_superhost                   0\n",
       "host_has_profile_pic                0\n",
       "host_identity_verified              0\n",
       "neighbourhood_group_cleansed        0\n",
       "zipcode                             0\n",
       "is_location_exact                   0\n",
       "property_type                       0\n",
       "room_type                           0\n",
       "bed_type                            0\n",
       "amenities                           0\n",
       "calendar_updated                    0\n",
       "instant_bookable                    0\n",
       "cancellation_policy                 0\n",
       "require_guest_profile_picture       0\n",
       "require_guest_phone_verification    0\n",
       "dtype: int64"
      ]
     },
     "execution_count": 9,
     "metadata": {},
     "output_type": "execute_result"
    }
   ],
   "source": [
    "# Impute categorical variables with the most frequent,\n",
    "# because this method is better for replace null values of categorical variables \n",
    "imp_obj= SimpleImputer(missing_values=np.nan, strategy='most_frequent')\n",
    "obj_cols = listings_df.select_dtypes(include=['object']).columns\n",
    "listings_df[obj_cols]= pd.DataFrame(data=imp_obj.fit_transform(listings_df[obj_cols]),\n",
    "                                         index=listings_df[obj_cols].index, columns=obj_cols)\n",
    "listings_df[obj_cols].isnull().sum()"
   ]
  },
  {
   "cell_type": "code",
   "execution_count": 10,
   "metadata": {},
   "outputs": [
    {
     "data": {
      "text/plain": [
       "0"
      ]
     },
     "execution_count": 10,
     "metadata": {},
     "output_type": "execute_result"
    }
   ],
   "source": [
    "# Impute numeric values with mean\n",
    "# because this method has better result than imputation with median\n",
    "imp_num= SimpleImputer(missing_values=np.nan, strategy='mean')\n",
    "num_cols = listings_df.drop(columns=['price']).select_dtypes(include=['float64', 'int64']).columns\n",
    "listings_df[num_cols]= pd.DataFrame(data=imp_num.fit_transform(listings_df[num_cols]),\n",
    "                                         index=listings_df[num_cols].index, columns=num_cols)\n",
    "listings_df[num_cols].isnull().sum().sum()"
   ]
  },
  {
   "cell_type": "markdown",
   "metadata": {},
   "source": [
    "## 2.3. Encode Categorical Features\n"
   ]
  },
  {
   "cell_type": "code",
   "execution_count": 11,
   "metadata": {},
   "outputs": [
    {
     "data": {
      "text/html": [
       "<div>\n",
       "<style scoped>\n",
       "    .dataframe tbody tr th:only-of-type {\n",
       "        vertical-align: middle;\n",
       "    }\n",
       "\n",
       "    .dataframe tbody tr th {\n",
       "        vertical-align: top;\n",
       "    }\n",
       "\n",
       "    .dataframe thead th {\n",
       "        text-align: right;\n",
       "    }\n",
       "</style>\n",
       "<table border=\"1\" class=\"dataframe\">\n",
       "  <thead>\n",
       "    <tr style=\"text-align: right;\">\n",
       "      <th></th>\n",
       "      <th>host_total_listings_count</th>\n",
       "      <th>accommodates</th>\n",
       "      <th>bathrooms</th>\n",
       "      <th>bedrooms</th>\n",
       "      <th>beds</th>\n",
       "      <th>amenities</th>\n",
       "      <th>square_feet</th>\n",
       "      <th>price</th>\n",
       "      <th>weekly_price</th>\n",
       "      <th>monthly_price</th>\n",
       "      <th>...</th>\n",
       "      <th>calendar_updated_yesterday</th>\n",
       "      <th>instant_bookable_f</th>\n",
       "      <th>instant_bookable_t</th>\n",
       "      <th>cancellation_policy_flexible</th>\n",
       "      <th>cancellation_policy_moderate</th>\n",
       "      <th>cancellation_policy_strict</th>\n",
       "      <th>require_guest_profile_picture_f</th>\n",
       "      <th>require_guest_profile_picture_t</th>\n",
       "      <th>require_guest_phone_verification_f</th>\n",
       "      <th>require_guest_phone_verification_t</th>\n",
       "    </tr>\n",
       "  </thead>\n",
       "  <tbody>\n",
       "    <tr>\n",
       "      <td>0</td>\n",
       "      <td>3.0</td>\n",
       "      <td>4.0</td>\n",
       "      <td>1.0</td>\n",
       "      <td>1.0</td>\n",
       "      <td>1.0</td>\n",
       "      <td>{TV,\"Cable TV\",Internet,\"Wireless Internet\",\"A...</td>\n",
       "      <td>854.618557</td>\n",
       "      <td>85.0</td>\n",
       "      <td>788.481832</td>\n",
       "      <td>2613.33619</td>\n",
       "      <td>...</td>\n",
       "      <td>0</td>\n",
       "      <td>1</td>\n",
       "      <td>0</td>\n",
       "      <td>0</td>\n",
       "      <td>1</td>\n",
       "      <td>0</td>\n",
       "      <td>1</td>\n",
       "      <td>0</td>\n",
       "      <td>1</td>\n",
       "      <td>0</td>\n",
       "    </tr>\n",
       "    <tr>\n",
       "      <td>1</td>\n",
       "      <td>6.0</td>\n",
       "      <td>4.0</td>\n",
       "      <td>1.0</td>\n",
       "      <td>1.0</td>\n",
       "      <td>1.0</td>\n",
       "      <td>{TV,Internet,\"Wireless Internet\",Kitchen,\"Free...</td>\n",
       "      <td>854.618557</td>\n",
       "      <td>150.0</td>\n",
       "      <td>1000.000000</td>\n",
       "      <td>3000.00000</td>\n",
       "      <td>...</td>\n",
       "      <td>0</td>\n",
       "      <td>1</td>\n",
       "      <td>0</td>\n",
       "      <td>0</td>\n",
       "      <td>0</td>\n",
       "      <td>1</td>\n",
       "      <td>0</td>\n",
       "      <td>1</td>\n",
       "      <td>0</td>\n",
       "      <td>1</td>\n",
       "    </tr>\n",
       "    <tr>\n",
       "      <td>2</td>\n",
       "      <td>2.0</td>\n",
       "      <td>11.0</td>\n",
       "      <td>4.5</td>\n",
       "      <td>5.0</td>\n",
       "      <td>7.0</td>\n",
       "      <td>{TV,\"Cable TV\",Internet,\"Wireless Internet\",\"A...</td>\n",
       "      <td>854.618557</td>\n",
       "      <td>975.0</td>\n",
       "      <td>788.481832</td>\n",
       "      <td>2613.33619</td>\n",
       "      <td>...</td>\n",
       "      <td>0</td>\n",
       "      <td>1</td>\n",
       "      <td>0</td>\n",
       "      <td>0</td>\n",
       "      <td>0</td>\n",
       "      <td>1</td>\n",
       "      <td>1</td>\n",
       "      <td>0</td>\n",
       "      <td>1</td>\n",
       "      <td>0</td>\n",
       "    </tr>\n",
       "    <tr>\n",
       "      <td>3</td>\n",
       "      <td>1.0</td>\n",
       "      <td>3.0</td>\n",
       "      <td>1.0</td>\n",
       "      <td>0.0</td>\n",
       "      <td>2.0</td>\n",
       "      <td>{Internet,\"Wireless Internet\",Kitchen,\"Indoor ...</td>\n",
       "      <td>854.618557</td>\n",
       "      <td>100.0</td>\n",
       "      <td>650.000000</td>\n",
       "      <td>2300.00000</td>\n",
       "      <td>...</td>\n",
       "      <td>0</td>\n",
       "      <td>1</td>\n",
       "      <td>0</td>\n",
       "      <td>1</td>\n",
       "      <td>0</td>\n",
       "      <td>0</td>\n",
       "      <td>1</td>\n",
       "      <td>0</td>\n",
       "      <td>1</td>\n",
       "      <td>0</td>\n",
       "    </tr>\n",
       "    <tr>\n",
       "      <td>4</td>\n",
       "      <td>2.0</td>\n",
       "      <td>6.0</td>\n",
       "      <td>2.0</td>\n",
       "      <td>3.0</td>\n",
       "      <td>3.0</td>\n",
       "      <td>{TV,\"Cable TV\",Internet,\"Wireless Internet\",Ki...</td>\n",
       "      <td>854.618557</td>\n",
       "      <td>450.0</td>\n",
       "      <td>788.481832</td>\n",
       "      <td>2613.33619</td>\n",
       "      <td>...</td>\n",
       "      <td>0</td>\n",
       "      <td>1</td>\n",
       "      <td>0</td>\n",
       "      <td>0</td>\n",
       "      <td>0</td>\n",
       "      <td>1</td>\n",
       "      <td>1</td>\n",
       "      <td>0</td>\n",
       "      <td>1</td>\n",
       "      <td>0</td>\n",
       "    </tr>\n",
       "  </tbody>\n",
       "</table>\n",
       "<p>5 rows × 193 columns</p>\n",
       "</div>"
      ],
      "text/plain": [
       "   host_total_listings_count  accommodates  bathrooms  bedrooms  beds  \\\n",
       "0                        3.0           4.0        1.0       1.0   1.0   \n",
       "1                        6.0           4.0        1.0       1.0   1.0   \n",
       "2                        2.0          11.0        4.5       5.0   7.0   \n",
       "3                        1.0           3.0        1.0       0.0   2.0   \n",
       "4                        2.0           6.0        2.0       3.0   3.0   \n",
       "\n",
       "                                           amenities  square_feet  price  \\\n",
       "0  {TV,\"Cable TV\",Internet,\"Wireless Internet\",\"A...   854.618557   85.0   \n",
       "1  {TV,Internet,\"Wireless Internet\",Kitchen,\"Free...   854.618557  150.0   \n",
       "2  {TV,\"Cable TV\",Internet,\"Wireless Internet\",\"A...   854.618557  975.0   \n",
       "3  {Internet,\"Wireless Internet\",Kitchen,\"Indoor ...   854.618557  100.0   \n",
       "4  {TV,\"Cable TV\",Internet,\"Wireless Internet\",Ki...   854.618557  450.0   \n",
       "\n",
       "   weekly_price  monthly_price  ...  calendar_updated_yesterday  \\\n",
       "0    788.481832     2613.33619  ...                           0   \n",
       "1   1000.000000     3000.00000  ...                           0   \n",
       "2    788.481832     2613.33619  ...                           0   \n",
       "3    650.000000     2300.00000  ...                           0   \n",
       "4    788.481832     2613.33619  ...                           0   \n",
       "\n",
       "   instant_bookable_f  instant_bookable_t  cancellation_policy_flexible  \\\n",
       "0                   1                   0                             0   \n",
       "1                   1                   0                             0   \n",
       "2                   1                   0                             0   \n",
       "3                   1                   0                             1   \n",
       "4                   1                   0                             0   \n",
       "\n",
       "   cancellation_policy_moderate  cancellation_policy_strict  \\\n",
       "0                             1                           0   \n",
       "1                             0                           1   \n",
       "2                             0                           1   \n",
       "3                             0                           0   \n",
       "4                             0                           1   \n",
       "\n",
       "   require_guest_profile_picture_f  require_guest_profile_picture_t  \\\n",
       "0                                1                                0   \n",
       "1                                0                                1   \n",
       "2                                1                                0   \n",
       "3                                1                                0   \n",
       "4                                1                                0   \n",
       "\n",
       "   require_guest_phone_verification_f  require_guest_phone_verification_t  \n",
       "0                                   1                                   0  \n",
       "1                                   0                                   1  \n",
       "2                                   1                                   0  \n",
       "3                                   1                                   0  \n",
       "4                                   1                                   0  \n",
       "\n",
       "[5 rows x 193 columns]"
      ]
     },
     "execution_count": 11,
     "metadata": {},
     "output_type": "execute_result"
    }
   ],
   "source": [
    "# Dummy the categorical variables\n",
    "cat_vars = ['host_response_rate', 'host_is_superhost','host_has_profile_pic', 'host_identity_verified',\n",
    "            'neighbourhood_group_cleansed', 'zipcode', 'is_location_exact','property_type', 'room_type',\n",
    "            'bed_type','calendar_updated', 'instant_bookable', 'cancellation_policy',\n",
    "            'require_guest_profile_picture', 'require_guest_phone_verification']\n",
    "\n",
    "for var in  cat_vars:\n",
    "    listings_df = pd.concat([listings_df.drop(var, axis=1), \n",
    "                                    pd.get_dummies(listings_df[var], prefix=var, prefix_sep='_', drop_first=False)],\n",
    "                                   axis=1)\n",
    "listings_df.head()"
   ]
  },
  {
   "cell_type": "code",
   "execution_count": 12,
   "metadata": {},
   "outputs": [
    {
     "data": {
      "text/plain": [
       "array([list(['TV', 'Cable TV', 'Internet', 'Wireless Internet', 'Air Conditioning', 'Kitchen', 'Heating', 'Family/Kid Friendly', 'Washer', 'Dryer']),\n",
       "       list(['TV', 'Internet', 'Wireless Internet', 'Kitchen', 'Free Parking on Premises', 'Buzzer/Wireless Intercom', 'Heating', 'Family/Kid Friendly', 'Washer', 'Dryer', 'Smoke Detector', 'Carbon Monoxide Detector', 'First Aid Kit', 'Safety Card', 'Fire Extinguisher', 'Essentials']),\n",
       "       list(['TV', 'Cable TV', 'Internet', 'Wireless Internet', 'Air Conditioning', 'Kitchen', 'Free Parking on Premises', 'Pets Allowed', 'Pets live on this property', 'Dog(s)', 'Cat(s)', 'Hot Tub', 'Indoor Fireplace', 'Heating', 'Family/Kid Friendly', 'Washer', 'Dryer', 'Smoke Detector', 'Carbon Monoxide Detector', 'Essentials', 'Shampoo']),\n",
       "       ...,\n",
       "       list(['Cable TV', 'Wireless Internet', 'Kitchen', 'Free Parking on Premises', 'Breakfast', 'Pets live on this property', 'Dog(s)', 'Cat(s)', 'Heating', 'Washer', 'Dryer', 'Smoke Detector', 'First Aid Kit', 'Safety Card', 'Fire Extinguisher', 'Essentials', 'Hangers', 'Hair Dryer', 'Iron', 'Laptop Friendly Workspace']),\n",
       "       list(['TV', 'Wireless Internet', 'Kitchen', 'Free Parking on Premises', 'Elevator in Building', 'Heating', 'Smoke Detector', 'Essentials', 'Hangers', 'Hair Dryer', 'Laptop Friendly Workspace']),\n",
       "       list(['TV', 'Cable TV', 'Internet', 'Wireless Internet', 'Kitchen', 'Free Parking on Premises', 'Pets live on this property', 'Dog(s)', 'Elevator in Building', 'Hot Tub', 'Indoor Fireplace', 'Buzzer/Wireless Intercom', 'Heating', 'Family/Kid Friendly', 'Washer', 'Dryer', 'Smoke Detector', 'Essentials', 'Shampoo', 'Hangers', 'Iron', 'Laptop Friendly Workspace'])],\n",
       "      dtype=object)"
      ]
     },
     "execution_count": 12,
     "metadata": {},
     "output_type": "execute_result"
    }
   ],
   "source": [
    "# Remove unwanted characters from amenities feature and split it to rows, then conver them into array \n",
    "amenities = np.array(listings_df['amenities'].map(lambda a: a.strip('{}').replace('\"', '').split(',')))\n",
    "amenities"
   ]
  },
  {
   "cell_type": "code",
   "execution_count": 13,
   "metadata": {},
   "outputs": [
    {
     "data": {
      "text/plain": [
       "array(['24-Hour Check-in', 'Air Conditioning', 'Breakfast',\n",
       "       'Buzzer/Wireless Intercom', 'Cable TV', 'Carbon Monoxide Detector',\n",
       "       'Cat(s)', 'Dog(s)', 'Doorman', 'Dryer', 'Elevator in Building',\n",
       "       'Essentials', 'Family/Kid Friendly', 'Fire Extinguisher',\n",
       "       'First Aid Kit', 'Free Parking on Premises', 'Gym', 'Hair Dryer',\n",
       "       'Hangers', 'Heating', 'Hot Tub', 'Indoor Fireplace', 'Internet',\n",
       "       'Iron', 'Kitchen', 'Laptop Friendly Workspace',\n",
       "       'Lock on Bedroom Door', 'Other pet(s)', 'Pets Allowed',\n",
       "       'Pets live on this property', 'Pool', 'Safety Card', 'Shampoo',\n",
       "       'Smoke Detector', 'Smoking Allowed', 'Suitable for Events', 'TV',\n",
       "       'Washer', 'Washer / Dryer', 'Wheelchair Accessible',\n",
       "       'Wireless Internet'], dtype='<U26')"
      ]
     },
     "execution_count": 13,
     "metadata": {},
     "output_type": "execute_result"
    }
   ],
   "source": [
    "# Get all unique values from amenities, then conver them into array\n",
    "amenities_groups = np.unique(np.concatenate(amenities))[1:]\n",
    "amenities_groups"
   ]
  },
  {
   "cell_type": "code",
   "execution_count": 14,
   "metadata": {},
   "outputs": [
    {
     "data": {
      "text/plain": [
       "array([[0., 1., 0., ..., 0., 0., 1.],\n",
       "       [0., 0., 0., ..., 0., 0., 1.],\n",
       "       [0., 1., 0., ..., 0., 0., 1.],\n",
       "       ...,\n",
       "       [0., 0., 1., ..., 0., 0., 1.],\n",
       "       [0., 0., 0., ..., 0., 0., 1.],\n",
       "       [0., 0., 0., ..., 0., 0., 1.]])"
      ]
     },
     "execution_count": 14,
     "metadata": {},
     "output_type": "execute_result"
    }
   ],
   "source": [
    "def convert_amenties_to_boolean(amenities_groups, amenities):\n",
    "    \n",
    "    '''\n",
    "    INPUT\n",
    "    amenities_groups - an array containing all unique values of amenities\n",
    "    amenities - an array containing all values of amenities\n",
    "    \n",
    "    OUTPUT\n",
    "    amenties_boolean - an array containing boolean values of amenities\n",
    "    \n",
    "    Perform to obtain the correct X and y objects\n",
    "    This function cleans df using the following steps to produce X and y:\n",
    "    1. Create an empty array with all zeros\n",
    "    2. substitute with 1 if value of amenities_groups is found in amenities rows and vice versa\n",
    "    '''\n",
    "    amenties_boolean = np.empty((amenities.shape[0], amenities_groups.shape[0]))\n",
    "    for i, row in enumerate(amenities):\n",
    "        amns = amenities_groups.copy()\n",
    "        for j, amn in enumerate(amns):\n",
    "            if amn in amenities[i]:\n",
    "                amenties_boolean[i,j] = True\n",
    "            else:\n",
    "                amenties_boolean[i,j] = False\n",
    "    return amenties_boolean\n",
    "\n",
    "#Use the function to convert values to 0 or 1\n",
    "amenities= convert_amenties_to_boolean(amenities_groups, amenities)\n",
    "amenities"
   ]
  },
  {
   "cell_type": "code",
   "execution_count": 15,
   "metadata": {},
   "outputs": [],
   "source": [
    "# Reset index of the the dataframe\n",
    "listings_df = listings_df.reset_index(drop=True)"
   ]
  },
  {
   "cell_type": "code",
   "execution_count": 16,
   "metadata": {},
   "outputs": [],
   "source": [
    "# Add amenities to the dataframe\n",
    "listings_df = pd.concat([listings_df.drop('amenities', axis=1), \n",
    "                              pd.DataFrame(data=amenities, columns=amenities_groups)], axis=1)"
   ]
  },
  {
   "cell_type": "code",
   "execution_count": 17,
   "metadata": {},
   "outputs": [],
   "source": [
    "# Change the type of columns with uint8 to float, to apply feature scaling without any future warning \n",
    "uint8_cols = listings_df.select_dtypes(include=['uint8']).columns\n",
    "listings_df[uint8_cols]=listings_df[uint8_cols].astype('float64')"
   ]
  },
  {
   "cell_type": "markdown",
   "metadata": {},
   "source": [
    "# 3. Model\n",
    "## 3.1. Split data into features and target value"
   ]
  },
  {
   "cell_type": "code",
   "execution_count": 18,
   "metadata": {},
   "outputs": [],
   "source": [
    "# Create X variable with all features without price\n",
    "X= listings_df.drop(columns=['price'])\n",
    "\n",
    "# Create Y variable with only price feature\n",
    "y= listings_df['price']"
   ]
  },
  {
   "cell_type": "markdown",
   "metadata": {},
   "source": [
    "## 3.2. Apply features Scaling"
   ]
  },
  {
   "cell_type": "code",
   "execution_count": 19,
   "metadata": {},
   "outputs": [],
   "source": [
    "# Apply feature scaling to the listings data.\n",
    "st_scaler= StandardScaler()\n",
    "X= pd.DataFrame(data=st_scaler.fit_transform(X), index=X.index, columns=X.columns)"
   ]
  },
  {
   "cell_type": "markdown",
   "metadata": {},
   "source": [
    "## 3.3. Split data into training and testing"
   ]
  },
  {
   "cell_type": "code",
   "execution_count": 20,
   "metadata": {},
   "outputs": [],
   "source": [
    "# Create train and test sets\n",
    "X_train, X_test, y_train, y_test = train_test_split(X, y, test_size= 0.25, random_state=42)"
   ]
  },
  {
   "cell_type": "markdown",
   "metadata": {},
   "source": [
    "## 3.4. Train model"
   ]
  },
  {
   "cell_type": "code",
   "execution_count": 21,
   "metadata": {},
   "outputs": [],
   "source": [
    "def get_RMSE(model):\n",
    "        \n",
    "    '''\n",
    "    INPUT\n",
    "    model - training model\n",
    "    \n",
    "    OUTPUT\n",
    "    model_rmse - RMSE value of the given model\n",
    "    \n",
    "    Perform to obtain RMSE value\n",
    "    This function cleans df using the following steps to produce X and y:\n",
    "    1. predict value of training data\n",
    "    2. calculate MSE \n",
    "    3. Calculate RMSE\n",
    "    '''\n",
    "    y_predict = model.predict(X_train)\n",
    "    model_mse = mean_squared_error(y_train, y_predict)\n",
    "    model_rmse = np.sqrt(model_mse)\n",
    "    \n",
    "    return model_rmse"
   ]
  },
  {
   "cell_type": "markdown",
   "metadata": {},
   "source": [
    "## 3.4.1 Linear Regression"
   ]
  },
  {
   "cell_type": "code",
   "execution_count": 22,
   "metadata": {},
   "outputs": [
    {
     "name": "stdout",
     "output_type": "stream",
     "text": [
      "RMSE: 7.547e+13\n"
     ]
    }
   ],
   "source": [
    "# Create linear regression model\n",
    "lin_reg = LinearRegression(normalize=True)\n",
    "\n",
    "# Fit the model\n",
    "lin_reg.fit(X_train, y_train)\n",
    "\n",
    "# Get RMSE value\n",
    "lin_reg_rmse= get_RMSE(lin_reg)\n",
    "\n",
    "print('RMSE: {:.4}'.format(lin_reg_rmse))"
   ]
  },
  {
   "cell_type": "markdown",
   "metadata": {},
   "source": [
    "## 3.4.2 Lasso Regularization"
   ]
  },
  {
   "cell_type": "code",
   "execution_count": 23,
   "metadata": {},
   "outputs": [
    {
     "name": "stdout",
     "output_type": "stream",
     "text": [
      "RMSE: 49.11\n"
     ]
    }
   ],
   "source": [
    "# Create linear regression model with lasso regularization.\n",
    "lasso_reg = Lasso()\n",
    "\n",
    "# Fit the model\n",
    "lasso_reg.fit(X_train, y_train)\n",
    "\n",
    "# Get RMSE value\n",
    "lasso_reg_rmse= get_RMSE(lasso_reg)\n",
    "\n",
    "print('RMSE: {:.4}'.format(lasso_reg_rmse))"
   ]
  },
  {
   "cell_type": "markdown",
   "metadata": {},
   "source": [
    "## 3.4.3 RandomForest Regression\n"
   ]
  },
  {
   "cell_type": "code",
   "execution_count": 24,
   "metadata": {},
   "outputs": [
    {
     "name": "stdout",
     "output_type": "stream",
     "text": [
      "RMSE: 23.69\n"
     ]
    }
   ],
   "source": [
    "# Create RandomForest Regression model\n",
    "forest_reg = RandomForestRegressor(n_estimators=10)\n",
    "\n",
    "# Fit the model\n",
    "forest_reg.fit(X_train, y_train)\n",
    "\n",
    "# Get RMSE value\n",
    "forest_reg_rmse= get_RMSE(forest_reg)\n",
    "\n",
    "print('RMSE: {:.4}'.format(forest_reg_rmse))"
   ]
  },
  {
   "cell_type": "markdown",
   "metadata": {},
   "source": [
    "#### The best model is RandomForest Regression, because it has the lowest value of RMSE\n",
    "\n",
    "## 3.5. Improve chosen model"
   ]
  },
  {
   "cell_type": "code",
   "execution_count": 26,
   "metadata": {},
   "outputs": [],
   "source": [
    "# Set GridSearchCV parameters \n",
    "parameters = {\n",
    "    'bootstrap': [True, False],\n",
    "    'n_estimators': [50, 100, 200],\n",
    "    'max_features': ['auto', 'sqrt'],\n",
    "    'max_depth' : [10, 20, 30],\n",
    "    'min_samples_split': [2, 5, 10],\n",
    "    'min_samples_leaf': [1, 2, 4]  \n",
    "}"
   ]
  },
  {
   "cell_type": "code",
   "execution_count": 28,
   "metadata": {},
   "outputs": [],
   "source": [
    "# Create GridSearchCV\n",
    "forest_reg_cv= GridSearchCV(forest_reg, parameters,cv=3)"
   ]
  },
  {
   "cell_type": "code",
   "execution_count": 29,
   "metadata": {},
   "outputs": [
    {
     "data": {
      "text/plain": [
       "GridSearchCV(cv=3, error_score='raise-deprecating',\n",
       "             estimator=RandomForestRegressor(bootstrap=True, criterion='mse',\n",
       "                                             max_depth=None,\n",
       "                                             max_features='auto',\n",
       "                                             max_leaf_nodes=None,\n",
       "                                             min_impurity_decrease=0.0,\n",
       "                                             min_impurity_split=None,\n",
       "                                             min_samples_leaf=1,\n",
       "                                             min_samples_split=2,\n",
       "                                             min_weight_fraction_leaf=0.0,\n",
       "                                             n_estimators=10, n_jobs=None,\n",
       "                                             oob_score=False, random_state=None,\n",
       "                                             verbose=0, warm_start=False),\n",
       "             iid='warn', n_jobs=None,\n",
       "             param_grid={'bootstrap': [True, False], 'max_depth': [10, 20, 30],\n",
       "                         'max_features': ['auto', 'sqrt'],\n",
       "                         'min_samples_leaf': [1, 2, 4],\n",
       "                         'min_samples_split': [2, 5, 10],\n",
       "                         'n_estimators': [50, 100, 200]},\n",
       "             pre_dispatch='2*n_jobs', refit=True, return_train_score=False,\n",
       "             scoring=None, verbose=0)"
      ]
     },
     "execution_count": 29,
     "metadata": {},
     "output_type": "execute_result"
    }
   ],
   "source": [
    "# Fit model\n",
    "forest_reg_cv.fit(X_train, y_train)"
   ]
  },
  {
   "cell_type": "code",
   "execution_count": 30,
   "metadata": {},
   "outputs": [
    {
     "data": {
      "text/plain": [
       "RandomForestRegressor(bootstrap=True, criterion='mse', max_depth=30,\n",
       "                      max_features='auto', max_leaf_nodes=None,\n",
       "                      min_impurity_decrease=0.0, min_impurity_split=None,\n",
       "                      min_samples_leaf=4, min_samples_split=2,\n",
       "                      min_weight_fraction_leaf=0.0, n_estimators=50,\n",
       "                      n_jobs=None, oob_score=False, random_state=None,\n",
       "                      verbose=0, warm_start=False)"
      ]
     },
     "execution_count": 30,
     "metadata": {},
     "output_type": "execute_result"
    }
   ],
   "source": [
    "# Get best parameter\n",
    "forest_reg_cv.best_estimator_"
   ]
  },
  {
   "cell_type": "code",
   "execution_count": 31,
   "metadata": {},
   "outputs": [
    {
     "name": "stdout",
     "output_type": "stream",
     "text": [
      "RMSE: 47.52\n"
     ]
    }
   ],
   "source": [
    "# Create RandomForest Regression model with best parameter\n",
    "forest_reg_imp = forest_reg_cv.best_estimator_\n",
    "y_predict_imp = forest_reg_imp.predict(X_test)\n",
    "\n",
    "# Get RMSE value\n",
    "forest_reg_mse_imp = mean_squared_error(y_test, y_predict_imp)\n",
    "forest_reg_rmse_imp = np.sqrt(forest_reg_mse_imp)\n",
    "\n",
    "print('RMSE: {:.4}'.format(forest_reg_rmse_imp))"
   ]
  },
  {
   "cell_type": "markdown",
   "metadata": {},
   "source": [
    "# 4. Visualize"
   ]
  },
  {
   "cell_type": "code",
   "execution_count": 32,
   "metadata": {},
   "outputs": [
    {
     "data": {
      "text/plain": [
       "bedrooms                     0.398915\n",
       "weekly_price                 0.192672\n",
       "bathrooms                    0.074356\n",
       "room_type_Entire home/apt    0.054678\n",
       "cleaning_fee                 0.042260\n",
       "accommodates                 0.032605\n",
       "reviews_per_month            0.026555\n",
       "availability_365             0.014435\n",
       "number_of_reviews            0.009429\n",
       "extra_people                 0.009030\n",
       "Name: 0, dtype: float64"
      ]
     },
     "execution_count": 32,
     "metadata": {},
     "output_type": "execute_result"
    }
   ],
   "source": [
    "# Get feature_importances of model\n",
    "feature_importances = forest_reg_cv.best_estimator_.feature_importances_\n",
    "\n",
    "# Sort feature importance and get the first 20 features\n",
    "feature_importances_df= pd.DataFrame(data=feature_importances, index=X.columns) \n",
    "feature_importances_sorted=feature_importances_df[0].sort_values(ascending=False)\n",
    "feature_importances_sorted_10=feature_importances_sorted[:10]\n",
    "feature_importances_sorted_10"
   ]
  },
  {
   "cell_type": "code",
   "execution_count": 33,
   "metadata": {},
   "outputs": [
    {
     "data": {
      "image/png": "[encoded data removed]",
      "text/plain": [
       "<Figure size 1440x504 with 1 Axes>"
      ]
     },
     "metadata": {
      "needs_background": "light"
     },
     "output_type": "display_data"
    }
   ],
   "source": [
    "# Plot The most important features in predicting price\n",
    "plt.figure(figsize=(20,7))\n",
    "plt.bar(feature_importances_sorted_10.index,feature_importances_sorted_10)\n",
    "plt.xticks(rotation=90)\n",
    "plt.xlabel('Features')\n",
    "plt.ylabel('Feature_importances')\n",
    "plt.title('The most important features in predicting price')\n",
    "plt.show()"
   ]
  },
  {
   "cell_type": "code",
   "execution_count": null,
   "metadata": {},
   "outputs": [],
   "source": []
  }
 ],
 "metadata": {
  "kernelspec": {
   "display_name": "Python 3",
   "language": "python",
   "name": "python3"
  },
  "language_info": {
   "codemirror_mode": {
    "name": "ipython",
    "version": 3
   },
   "file_extension": ".py",
   "mimetype": "text/x-python",
   "name": "python",
   "nbconvert_exporter": "python",
   "pygments_lexer": "ipython3",
   "version": "3.7.1rc1"
  }
 },
 "nbformat": 4,
 "nbformat_minor": 4
}
